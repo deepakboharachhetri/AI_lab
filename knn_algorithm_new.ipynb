{
  "nbformat": 4,
  "nbformat_minor": 0,
  "metadata": {
    "colab": {
      "provenance": [],
      "authorship_tag": "ABX9TyNb16HLcd6mOP9EIcwW8GKs",
      "include_colab_link": true
    },
    "kernelspec": {
      "name": "python3",
      "display_name": "Python 3"
    },
    "language_info": {
      "name": "python"
    }
  },
  "cells": [
    {
      "cell_type": "markdown",
      "metadata": {
        "id": "view-in-github",
        "colab_type": "text"
      },
      "source": [
        "<a href=\"https://colab.research.google.com/github/deepakboharachhetri/AI_lab/blob/main/knn_algorithm_new.ipynb\" target=\"_parent\"><img src=\"https://colab.research.google.com/assets/colab-badge.svg\" alt=\"Open In Colab\"/></a>"
      ]
    },
    {
      "cell_type": "code",
      "source": [
        "import math\n",
        "import random\n",
        "from collections import Counter\n",
        "from sklearn.model_selection import train_test_split\n",
        "\n",
        "\n",
        "# === Function 1: Euclidean Distance ===\n",
        "def euclidean_distance(p1, p2):\n",
        "    return math.sqrt(sum((a - b) ** 2 for a, b in zip(p1, p2)))\n",
        "\n",
        "\n",
        "# === Function 2: kNN Classifier ===\n",
        "def knn(train_data, train_labels, test_point, k):\n",
        "    distances = [(euclidean_distance(test_point, x), label)\n",
        "                 for x, label in zip(train_data, train_labels)]\n",
        "    distances.sort(key=lambda x: x[0])\n",
        "    k_nearest_labels = [label for (_, label) in distances[:k]]\n",
        "    most_common = Counter(k_nearest_labels).most_common(1)[0][0]\n",
        "    return most_common\n",
        "\n",
        "\n",
        "# === Function 3: Accuracy Calculator ===\n",
        "def calculate_accuracy(X_train, y_train, X_test, y_test, k):\n",
        "    correct = 0\n",
        "    for i in range(len(X_test)):\n",
        "        pred = knn(X_train, y_train, X_test[i], k)\n",
        "        if pred == y_test[i]:\n",
        "            correct += 1\n",
        "    return correct / len(X_test)\n",
        "\n",
        "\n",
        "# === Function 4: Binary Classification Task ===\n",
        "def binary_classification_task(k=3):\n",
        "    print(\"=== Binary Classification Task (Pass/Fail) ===\")\n",
        "\n",
        "    data = [\n",
        "        [165, 60], [170, 65], [160, 55], [175, 70], [155, 50],\n",
        "        [168, 62], [162, 58], [172, 68], [158, 53], [167, 61]\n",
        "    ]\n",
        "    labels = [1, 1, 0, 1, 0, 1, 0, 1, 0, 1]\n",
        "\n",
        "    X_train, X_test, y_train, y_test = train_test_split(data, labels, test_size=0.2, random_state=42)\n",
        "\n",
        "    accuracy = calculate_accuracy(X_train, y_train, X_test, y_test, k)\n",
        "    print(f\"Accuracy: {accuracy * 100:.2f}%\")\n",
        "\n",
        "    test_point = [50, 105]\n",
        "    prediction = knn(X_train, y_train, test_point, k)\n",
        "    print(f\"Prediction for {test_point}: {'Pass' if prediction == 1 else 'Fail'}\")\n",
        "\n",
        "\n",
        "# === Function 5: Multi-Class Classification Task ===\n",
        "def multi_class_classification_task(k=3):\n",
        "    print(\"\\n=== Multi-Class Classification Task ===\")\n",
        "\n",
        "    # Generate synthetic data\n",
        "    data = []\n",
        "    labels = []\n",
        "\n",
        "    for _ in range(10):\n",
        "        data.append([random.uniform(4, 6), random.uniform(2, 3), random.uniform(1, 2)])\n",
        "        labels.append(0)\n",
        "    for _ in range(10):\n",
        "        data.append([random.uniform(5, 7), random.uniform(2.5, 3.5), random.uniform(3, 5)])\n",
        "        labels.append(1)\n",
        "    for _ in range(10):\n",
        "        data.append([random.uniform(6, 8), random.uniform(3, 4), random.uniform(5, 6)])\n",
        "        labels.append(2)\n",
        "\n",
        "    X_train, X_test, y_train, y_test = train_test_split(data, labels, test_size=0.2, random_state=1)\n",
        "\n",
        "    accuracy = calculate_accuracy(X_train, y_train, X_test, y_test, k)\n",
        "    print(f\"Accuracy: {accuracy * 100:.2f}%\")\n",
        "\n",
        "    test_point = [6.1, 3.3, 5.4]\n",
        "    prediction = knn(X_train, y_train, test_point, k)\n",
        "    print(f\"Prediction for {test_point}: Class {prediction}\")\n",
        "\n",
        "\n",
        "# === Main Runner ===\n",
        "def main():\n",
        "    k = 3\n",
        "    binary_classification_task(k)\n",
        "    multi_class_classification_task(k)\n",
        "\n",
        "\n",
        "if __name__ == \"__main__\":\n",
        "    main()\n"
      ],
      "metadata": {
        "colab": {
          "base_uri": "https://localhost:8080/"
        },
        "id": "FNHB7KGc2jDb",
        "outputId": "fc31f16a-2246-4057-a0b6-121d8dcfd9c0"
      },
      "execution_count": 14,
      "outputs": [
        {
          "output_type": "stream",
          "name": "stdout",
          "text": [
            "=== Binary Classification Task (Pass/Fail) ===\n",
            "Accuracy: 100.00%\n",
            "Prediction for [50, 105]: Fail\n",
            "\n",
            "=== Multi-Class Classification Task ===\n",
            "Accuracy: 83.33%\n",
            "Prediction for [6.1, 3.3, 5.4]: Class 2\n"
          ]
        }
      ]
    }
  ]
}